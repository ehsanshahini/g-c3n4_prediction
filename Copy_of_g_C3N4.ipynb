{
  "nbformat": 4,
  "nbformat_minor": 0,
  "metadata": {
    "colab": {
      "provenance": [],
      "collapsed_sections": [
        "O2wvZ7SKXzVC",
        "ptNjcy7bOBlD",
        "42j1k7gtCtFY",
        "YZ59qCOuEqGp",
        "o5SYS5ccDEpo",
        "dudnlB_WDYl9",
        "jvqnxkJEEoF-",
        "76_VimTNEKTW",
        "PLP5WXslDBba",
        "DhQJYmm3qdoT",
        "kPN5NpYWCtU1",
        "rOXfDsjZ4_tz",
        "nV8oDqMS4ABI"
      ],
      "include_colab_link": true
    },
    "kernelspec": {
      "name": "python3",
      "display_name": "Python 3"
    }
  },
  "cells": [
    {
      "cell_type": "markdown",
      "metadata": {
        "id": "view-in-github",
        "colab_type": "text"
      },
      "source": [
        "<a href=\"https://colab.research.google.com/github/ehsanshahini/g-c3n4_prediction/blob/main/Copy_of_g_C3N4.ipynb\" target=\"_parent\"><img src=\"https://colab.research.google.com/assets/colab-badge.svg\" alt=\"Open In Colab\"/></a>"
      ]
    },
    {
      "cell_type": "markdown",
      "metadata": {
        "id": "LeamvpPVXuS_"
      },
      "source": [
        "\n",
        "# Predicting ΔG_exf and ΔG_sol (SFE)\n"
      ]
    },
    {
      "cell_type": "markdown",
      "metadata": {
        "id": "O2wvZ7SKXzVC"
      },
      "source": [
        "## Importing the libraries"
      ]
    },
    {
      "cell_type": "code",
      "metadata": {
        "id": "PVmESEFZX4Ig"
      },
      "source": [
        "import numpy as np\n",
        "import matplotlib.pyplot as plt\n",
        "import pandas as pd\n",
        "import sys\n",
        "from pylab import rcParams\n",
        "import seaborn as sns\n",
        "from sklearn.model_selection import train_test_split\n",
        "from sklearn import model_selection, tree, preprocessing, metrics, linear_model\n",
        "from sklearn.metrics import mean_squared_error\n",
        "from sklearn.model_selection import cross_val_predict"
      ],
      "execution_count": null,
      "outputs": []
    },
    {
      "cell_type": "markdown",
      "metadata": {
        "id": "zgbK_F8-X7em"
      },
      "source": [
        "## Importing the dataset"
      ]
    },
    {
      "cell_type": "code",
      "metadata": {
        "id": "adBE4tjQX_Bh"
      },
      "source": [
        "dataset = pd.read_csv('Data.csv')\n",
        "# optimal subset of features for predicting deltaG_exf\n",
        "dataset = dataset[['Heat of vaporization','Dielectric constant', 'Surface tension', 'Density', 'MW', 'deltaG(exf)', 'Solvent_number']]\n",
        "# optimal subset of features for predicting deltaG_sol \n",
        "#dataset = dataset[['Dielectric constant', 'Surface tension', 'Thermal expansion', 'MW', 'PAC mean heavy atoms', 'PAC max', 'deltaG(sol)', 'Solvent_number']]\n",
        "X = dataset.iloc[:, :-2]\n",
        "y = dataset.iloc[:, -2].values "
      ],
      "execution_count": null,
      "outputs": []
    },
    {
      "cell_type": "markdown",
      "source": [
        "##Machine learning models"
      ],
      "metadata": {
        "id": "HG-wvbV4CylH"
      }
    },
    {
      "cell_type": "markdown",
      "metadata": {
        "id": "ptNjcy7bOBlD"
      },
      "source": [
        "###Splitting the dataset into the Training set and Test set\n",
        "\n",
        "\n",
        "\n"
      ]
    },
    {
      "cell_type": "code",
      "source": [
        "from sklearn.model_selection import train_test_split\n",
        "X_train, X_test, y_train, y_test = train_test_split(X, y, test_size = 0.33, random_state = 41)"
      ],
      "metadata": {
        "id": "EFONwFDDDoO7"
      },
      "execution_count": null,
      "outputs": []
    },
    {
      "cell_type": "markdown",
      "source": [
        "###Function that runs the requested algorithm and returns the accuracy metrics"
      ],
      "metadata": {
        "id": "42j1k7gtCtFY"
      }
    },
    {
      "cell_type": "code",
      "source": [
        "def fit_ml_algo(algo, X_train, y_train, cv):\n",
        "    \n",
        "    # One Pass\n",
        "    model = algo.fit(X_train, y_train)\n",
        "    acc = round(model.score(X_test, y_test) * 100, 2)\n",
        "    \n",
        "    # Cross Validation \n",
        "    y_pred = cross_val_predict(algo,\n",
        "                               X,\n",
        "                               y,\n",
        "                               cv=cv,\n",
        "                               n_jobs = -1)\n",
        "    # Cross-validation accuracy metric\n",
        "    acc_cv = round(metrics.r2_score(y, y_pred) * 100, 2)\n",
        "    rmse = mean_squared_error(y_pred, y, squared=False)\n",
        "    return y_pred, acc, acc_cv, rmse"
      ],
      "metadata": {
        "id": "whkhscVWzrpd"
      },
      "execution_count": null,
      "outputs": []
    },
    {
      "cell_type": "markdown",
      "source": [
        "###Extra Trees Regressor"
      ],
      "metadata": {
        "id": "YZ59qCOuEqGp"
      }
    },
    {
      "cell_type": "code",
      "source": [
        "from sklearn.ensemble import ExtraTreesRegressor\n",
        "y_pred, acc_log, acc_cv_log, rmse = fit_ml_algo(ExtraTreesRegressor(n_estimators=100), \n",
        "                                                               X_train, \n",
        "                                                               y_train, 10)\n",
        "print(\"Accuracy: %s\" % acc_log)\n",
        "print(\"Accuracy CV 10-Fold: %s\" % acc_cv_log)\n",
        "rmse = np.format_float_positional(rmse, precision=4, unique=False, fractional=False, trim='k')\n",
        "print(\"RMSE = %s\" % rmse)"
      ],
      "metadata": {
        "id": "kqNN_9m8DQI2"
      },
      "execution_count": null,
      "outputs": []
    },
    {
      "cell_type": "code",
      "source": [
        "fig, ax = plt.subplots()\n",
        "ax.scatter(y, y_pred, edgecolors=(0, 0, 0))\n",
        "ax.plot([y.min(), y.max()], [y.min(), y.max()], \"k--\", lw=4)\n",
        "ax.set_xlabel(r'$Measured \\Delta G_{exf} (kJ/mol.nm^2)$')\n",
        "ax.set_ylabel(r'$Predicted \\Delta G_{exf} (kJ/mol.nm^2)$')\n",
        "ax.set_title('ETR')\n",
        "#ax.text(min(y)-1,max(y)-3, r'$R^2 = %s$' %acc_cv_log, style='italic')\n",
        "#ax.text(min(y)-1,max(y)-5, r'$RMSE = %s (kJ/mol.nm^2)$' % rmse, style='italic')\n",
        "ax.text(min(y)-1,max(y)-3, r'$R^2 = 82.22$' , style='italic')\n",
        "ax.text(min(y)-1,max(y)-5, r'$RMSE = 14.74 (kJ/mol.nm^2)$' , style='italic')\n",
        "plt.show()"
      ],
      "metadata": {
        "id": "VeAbESDOEe5s"
      },
      "execution_count": null,
      "outputs": []
    },
    {
      "cell_type": "code",
      "source": [
        "from numpy import savetxt\n",
        "savetxt('res.csv', (np.c_[y, y_pred]), delimiter=',')"
      ],
      "metadata": {
        "id": "8CsrgX-obBRw"
      },
      "execution_count": null,
      "outputs": []
    },
    {
      "cell_type": "markdown",
      "source": [
        "###Random forest"
      ],
      "metadata": {
        "id": "o5SYS5ccDEpo"
      }
    },
    {
      "cell_type": "code",
      "source": [
        "from sklearn.ensemble import RandomForestRegressor\n",
        "y_pred, acc_log, acc_cv_log, rmse = fit_ml_algo(RandomForestRegressor(), \n",
        "                                                               X_train, \n",
        "                                                               y_train, 10)\n",
        "print(\"Accuracy: %s\" % acc_log)\n",
        "print(\"Accuracy CV 10-Fold: %s\" % acc_cv_log)\n",
        "rmse = np.format_float_positional(rmse, precision=4, unique=False, fractional=False, trim='k')\n",
        "print(\"RMSE = %s\" % rmse)"
      ],
      "metadata": {
        "id": "TCv4B41w_aIj"
      },
      "execution_count": null,
      "outputs": []
    },
    {
      "cell_type": "code",
      "source": [
        "fig, ax = plt.subplots()\n",
        "ax.scatter(y, y_pred, edgecolors=(0, 0, 0))\n",
        "ax.plot([y.min(), y.max()], [y.min(), y.max()], \"k--\", lw=4)\n",
        "ax.set_xlabel(r'$Measured \\Delta G_{exf} (kJ/mol.nm^2)$')\n",
        "ax.set_ylabel(r'$Predicted \\Delta G_{exf} (kJ/mol.nm^2)$')\n",
        "ax.set_title('RFR')\n",
        "ax.text(min(y)-1,max(y)-3, r'$R^2 = %s$' %acc_cv_log, style='italic')\n",
        "ax.text(min(y)-1,max(y)-5, r'$RMSE = %s (kJ/mol.nm^2)$' % rmse, style='italic')\n",
        "plt.show()"
      ],
      "metadata": {
        "id": "pSda8zSL7EEZ"
      },
      "execution_count": null,
      "outputs": []
    },
    {
      "cell_type": "markdown",
      "source": [
        "###Gradient boosting"
      ],
      "metadata": {
        "id": "dudnlB_WDYl9"
      }
    },
    {
      "cell_type": "code",
      "source": [
        "from sklearn.ensemble import GradientBoostingRegressor\n",
        "y_pred, acc_log, acc_cv_log, rmse = fit_ml_algo(GradientBoostingRegressor(), \n",
        "                                                               X_train, \n",
        "                                                               y_train, 10)\n",
        "print(\"Accuracy: %s\" % acc_log)\n",
        "print(\"Accuracy CV 10-Fold: %s\" % acc_cv_log)\n",
        "rmse = np.format_float_positional(rmse, precision=4, unique=False, fractional=False, trim='k')\n",
        "print(\"RMSE = %s\" % rmse)"
      ],
      "metadata": {
        "id": "u_MebG-jDc_R"
      },
      "execution_count": null,
      "outputs": []
    },
    {
      "cell_type": "code",
      "source": [
        "fig, ax = plt.subplots()\n",
        "ax.scatter(y, y_pred, edgecolors=(0, 0, 0))\n",
        "ax.plot([y.min(), y.max()], [y.min(), y.max()], \"k--\", lw=4)\n",
        "ax.set_xlabel(r'$Measured \\Delta G_{exf} (kJ/mol.nm^2)$')\n",
        "ax.set_ylabel(r'$Predicted \\Delta G_{exf} (kJ/mol.nm^2)$')\n",
        "ax.set_title('GBR')\n",
        "ax.text(min(y)-1,max(y)-3, r'$R^2 = %s$' %acc_cv_log, style='italic')\n",
        "ax.text(min(y)-1,max(y)-5, r'$RMSE = %s (kJ/mol.nm^2)$' % rmse, style='italic')\n",
        "plt.show()"
      ],
      "metadata": {
        "id": "3dfKYN3bTMip"
      },
      "execution_count": null,
      "outputs": []
    },
    {
      "cell_type": "markdown",
      "source": [
        "### AdaBoostRegressor"
      ],
      "metadata": {
        "id": "jvqnxkJEEoF-"
      }
    },
    {
      "cell_type": "code",
      "source": [
        "from sklearn.ensemble import AdaBoostRegressor\n",
        "y_pred, acc_log, acc_cv_log, rmse = fit_ml_algo(AdaBoostRegressor(n_estimators=100), \n",
        "                                                               X_train, \n",
        "                                                               y_train, 10)\n",
        "print(\"Accuracy: %s\" % acc_log)\n",
        "print(\"Accuracy CV 10-Fold: %s\" % acc_cv_log)\n",
        "rmse = np.format_float_positional(rmse, precision=4, unique=False, fractional=False, trim='k')\n",
        "print(\"RMSE = %s\" % rmse)"
      ],
      "metadata": {
        "id": "yUzy7ri5EvlN"
      },
      "execution_count": null,
      "outputs": []
    },
    {
      "cell_type": "code",
      "source": [
        "fig, ax = plt.subplots()\n",
        "ax.scatter(y, y_pred, edgecolors=(0, 0, 0))\n",
        "ax.plot([y.min(), y.max()], [y.min(), y.max()], \"k--\", lw=4)\n",
        "ax.set_xlabel(r'$Measured \\Delta G_{exf} (kJ/mol.nm^2)$')\n",
        "ax.set_ylabel(r'$Predicted \\Delta G_{exf} (kJ/mol.nm^2)$')\n",
        "ax.set_title('ABR')\n",
        "ax.text(min(y)-1,max(y)-3, r'$R^2 = %s$' %acc_cv_log, style='italic')\n",
        "ax.text(min(y)-1,max(y)-5, r'$RMSE = %s (kJ/mol.nm^2)$' % rmse, style='italic')\n",
        "plt.show()"
      ],
      "metadata": {
        "id": "ilQqCBh8Exxk"
      },
      "execution_count": null,
      "outputs": []
    },
    {
      "cell_type": "markdown",
      "source": [
        "### Bayesian ridge"
      ],
      "metadata": {
        "id": "76_VimTNEKTW"
      }
    },
    {
      "cell_type": "code",
      "source": [
        "from sklearn.linear_model import BayesianRidge\n",
        "y_pred, acc_log, acc_cv_log, rmse = fit_ml_algo(BayesianRidge(),\n",
        "                                          X_train,\n",
        "                                          y_train, 10)\n",
        "print(\"Accuracy: %s\" % acc_log)\n",
        "print(\"Accuracy CV 10-Fold: %s\" % acc_cv_log)\n",
        "rmse = np.format_float_positional(rmse, precision=4, unique=False, fractional=False, trim='k')\n",
        "print(\"RMSE = %s\" % rmse)"
      ],
      "metadata": {
        "id": "kEf6f6ktX4Di"
      },
      "execution_count": null,
      "outputs": []
    },
    {
      "cell_type": "code",
      "source": [
        "fig, ax = plt.subplots()\n",
        "ax.scatter(y, y_pred, edgecolors=(0, 0, 0))\n",
        "ax.plot([y.min(), y.max()], [y.min(), y.max()], \"k--\", lw=4)\n",
        "ax.set_xlabel(r'$Measured \\Delta G_{exf} (kJ/mol.nm^2)$')\n",
        "ax.set_ylabel(r'$Predicted \\Delta G_{exf} (kJ/mol.nm^2)$')\n",
        "ax.set_title('BRR')\n",
        "ax.text(min(y)-1,max(y)-3, r'$R^2 = %s$' %acc_cv_log, style='italic')\n",
        "ax.text(min(y)-1,max(y)-5, r'$RMSE = %s (kJ/mol.nm^2)$' % rmse, style='italic')\n",
        "plt.show()"
      ],
      "metadata": {
        "id": "va69B0m1ZBU3"
      },
      "execution_count": null,
      "outputs": []
    },
    {
      "cell_type": "code",
      "source": [
        "from numpy import savetxt\n",
        "savetxt('res.csv', (np.c_[y, y_pred]), delimiter=',')"
      ],
      "metadata": {
        "id": "daGtsOt-ivPz"
      },
      "execution_count": null,
      "outputs": []
    },
    {
      "cell_type": "markdown",
      "source": [
        "###Linear regression"
      ],
      "metadata": {
        "id": "PLP5WXslDBba"
      }
    },
    {
      "cell_type": "code",
      "source": [
        "from sklearn.linear_model import LinearRegression\n",
        "y_pred, acc_log, acc_cv_log, rmse = fit_ml_algo(LinearRegression(), \n",
        "                                                               X_train, \n",
        "                                                               y_train, 5)\n",
        "print(\"Accuracy: %s\" % acc_log)\n",
        "print(\"Accuracy CV 10-Fold: %s\" % acc_cv_log)\n",
        "rmse = np.format_float_positional(rmse, precision=4, unique=False, fractional=False, trim='k')\n",
        "print(\"RMSE = %s\" % rmse)"
      ],
      "metadata": {
        "id": "d9QH4ShM9wUl"
      },
      "execution_count": null,
      "outputs": []
    },
    {
      "cell_type": "code",
      "source": [
        "fig, ax = plt.subplots()\n",
        "ax.scatter(y, y_pred, edgecolors=(0, 0, 0))\n",
        "ax.plot([y.min(), y.max()], [y.min(), y.max()], \"k--\", lw=4)\n",
        "ax.set_xlabel(r'$Measured \\Delta G_{exf} (kJ/mol.nm^2)$')\n",
        "ax.set_ylabel(r'$Predicted \\Delta G_{exf} (kJ/mol.nm^2)$')\n",
        "ax.set_title('LR')\n",
        "ax.text(min(y_pred)+5 ,max(y_pred), r'$R^2 = %s$' %acc_cv_log, style='italic')\n",
        "ax.text(min(y_pred)+5 ,max(y_pred)-3, r'$RMSE = %s (kJ/mol.nm^2)$' % rmse, style='italic')\n",
        "plt.show()"
      ],
      "metadata": {
        "id": "Yg7I-NFETZen"
      },
      "execution_count": null,
      "outputs": []
    },
    {
      "cell_type": "markdown",
      "source": [
        "## Using experimental values for 49 solvents\n"
      ],
      "metadata": {
        "id": "kPN5NpYWCtU1"
      }
    },
    {
      "cell_type": "code",
      "source": [
        "Solvents_num = [1, 3, 4, 6, 8, 10, 11, 23, 24, 27, 30, 32, 33, 35, 36, 37, 39, 40, 42, 45, 46, 50, 53, 58, 62, 64, 71, 80, 96, 97, 103, 106, 107, 114, 115, 118, 120, 124, 135, 138, 141, 144, 146]\n",
        "CB = [40.97, 5.6, 33.0, 1110, 112.55] # in a respect matter: 'Heat of vaporization','Dielectric c onstant', 'Surface tension', 'Density', 'MW'\n",
        "CHP = [39.61, 7.8, 40.67, 1007, 167.25]\n",
        "DCB = [49, 2.4, 31.4, 1250, 147]\n",
        "IPA = [45.39, 17.9, 22.11, 785, 60.1]\n",
        "NMP = [53.4,33, 40.7, 1033, 99.13]\n",
        "NVP = [55.2, 13.41, 42.3, 1040, 111.14]\n",
        "data_exp_whole = pd.read_csv('dataset_merged.csv')\n"
      ],
      "metadata": {
        "id": "9rkD_f-eC0iu"
      },
      "execution_count": null,
      "outputs": []
    },
    {
      "cell_type": "code",
      "source": [
        "# creating the experimental values for the X matrix for solvents that are in the dataset_mereged (Caleman)\n",
        "X_exp_49_temp = []\n",
        "for num in Solvents_num:\n",
        "  vap_heat = data_exp_whole.loc[num-1, 'vap_exp']\n",
        "  epsilon = data_exp_whole.loc[num-1, 'eps_exp']\n",
        "  st = data_exp_whole.loc[num-1, 'st_exp']\n",
        "  Density = data_exp_whole.loc[num-1, 'den_exp']\n",
        "  MW = data_exp_whole.loc[num-1, 'MW']\n",
        "  temp = [vap_heat, epsilon, st, Density, MW]\n",
        "  X_exp_49_temp.append(temp)\n",
        "\n",
        "X_exp_49_temp.append(CB); X_exp_49_temp.append(CHP); X_exp_49_temp.append(DCB); X_exp_49_temp.append(IPA); X_exp_49_temp.append(NMP); X_exp_49_temp.append(NVP)\n",
        "\n",
        "X_exp_49 = pd.DataFrame(X_exp_49_temp)\n",
        "X_exp_49.columns = X.columns"
      ],
      "metadata": {
        "id": "-1ubBYi2EwYI"
      },
      "execution_count": null,
      "outputs": []
    },
    {
      "cell_type": "markdown",
      "source": [
        "### Using experimental values for all 146 solvents\n"
      ],
      "metadata": {
        "id": "ZBT1GzaDeqRQ"
      }
    },
    {
      "cell_type": "code",
      "source": [
        "data_exp_whole = pd.read_csv('dataset_merged.csv')"
      ],
      "metadata": {
        "id": "yH4Lb98Ie2ro"
      },
      "execution_count": null,
      "outputs": []
    },
    {
      "cell_type": "code",
      "source": [
        "# creating the experimental values for the X matrix for solvents that are in the dataset_mereged (Caleman et al.)\n",
        "X_exp_temp = []\n",
        "for num in range(146):\n",
        "  vap_heat = data_exp_whole.loc[num, 'vap_exp']\n",
        "  epsilon = data_exp_whole.loc[num, 'eps_exp']\n",
        "  st = data_exp_whole.loc[num, 'st_exp']\n",
        "  Density = data_exp_whole.loc[num, 'den_exp']\n",
        "  MW = data_exp_whole.loc[num, 'MW']\n",
        "  temp = [vap_heat, epsilon, st, Density, MW]\n",
        "  X_exp_temp.append(temp)\n",
        "\n",
        "X_exp_temp.append(CB); X_exp_temp.append(CHP); X_exp_temp.append(DCB); X_exp_temp.append(IPA); X_exp_temp.append(NMP); X_exp_temp.append(NVP) #solvents 147 to 152\n",
        "\n",
        "X_exp = pd.DataFrame(X_exp_temp)\n",
        "X_exp.columns = X.columns"
      ],
      "metadata": {
        "id": "CXD5iojqe4Z2"
      },
      "execution_count": null,
      "outputs": []
    },
    {
      "cell_type": "code",
      "source": [
        "data_save = pd.DataFrame(X_exp)\n",
        "data_save.to_csv(\"whole.csv\", index=False, header=False)"
      ],
      "metadata": {
        "id": "gVBrTDl4M8Ji"
      },
      "execution_count": null,
      "outputs": []
    },
    {
      "cell_type": "markdown",
      "source": [
        "## Subset selection"
      ],
      "metadata": {
        "id": "rOXfDsjZ4_tz"
      }
    },
    {
      "cell_type": "code",
      "source": [
        "import itertools\n",
        "import time\n",
        "import statsmodels.api as sm\n",
        "from sklearn.ensemble import RandomForestRegressor\n",
        "\n",
        "\n",
        "%matplotlib inline\n",
        "plt.style.use('ggplot')"
      ],
      "metadata": {
        "id": "QVly2T3W75GV"
      },
      "execution_count": null,
      "outputs": []
    },
    {
      "cell_type": "code",
      "source": [
        "def fit_ml_model(algo, X_train, y_train, cv):\n",
        "    \n",
        "    # One Pass\n",
        "    model = algo.fit(X_train, y_train)\n",
        "    acc = round(model.score(X_test, y_test), 2)\n",
        "    \n",
        "    # Cross Validation \n",
        "    y_pred = model_selection.cross_val_predict(algo, \n",
        "                                                  X, \n",
        "                                                  y, \n",
        "                                                  cv=cv, \n",
        "                                                  n_jobs = -1)\n",
        "    # Cross-validation accuracy metric\n",
        "    acc_cv = round(metrics.r2_score(y, y_pred), 2)\n",
        "    RSS = mean_squared_error(y, y_pred) * len(y)\n",
        "    return y_pred, acc, acc_cv, RSS"
      ],
      "metadata": {
        "id": "jUWhP65q8PEx"
      },
      "execution_count": null,
      "outputs": []
    },
    {
      "cell_type": "code",
      "source": [
        "#Importing tqdm for the progress bar\n",
        "from tqdm import tnrange, tqdm_notebook\n",
        "\n",
        "#Initialization variables\n",
        "#k = 4\n",
        "RSS_list, R_squared_list, feature_list = [], [], []\n",
        "numb_features = []\n",
        "\n",
        "#Looping over k = 1 to k = 11 features in X\n",
        "for k in tnrange(1,len(X_train.columns) + 1, desc = 'Loop...'):\n",
        "\n",
        "    #Looping over all possible combinations: from 11 choose k\n",
        "    for combo in itertools.combinations(X_train.columns,k):\n",
        "        tmp_result = fit_ml_model(RandomForestRegressor(), X_train, y_train, 10)   #Store temp result \n",
        "        RSS_list.append(tmp_result[3])                  #Append lists\n",
        "        R_squared_list.append(tmp_result[2])\n",
        "        feature_list.append(combo)\n",
        "        numb_features.append(len(combo))   \n",
        "\n",
        "#Store in DataFrame\n",
        "df = pd.DataFrame({'numb_features': numb_features,'RSS': RSS_list, 'R_squared':R_squared_list,'features':feature_list})"
      ],
      "metadata": {
        "id": "dTVS3VvA8C5T"
      },
      "execution_count": null,
      "outputs": []
    },
    {
      "cell_type": "code",
      "source": [
        "df_min = df[df.groupby('numb_features')['RSS'].transform(min) == df['RSS']]\n",
        "df_max = df[df.groupby('numb_features')['R_squared'].transform(max) == df['R_squared']]\n",
        "display(df_min.head(3))\n",
        "display(df_max.head(3))"
      ],
      "metadata": {
        "id": "kLffvRG2CJyD"
      },
      "execution_count": null,
      "outputs": []
    },
    {
      "cell_type": "code",
      "source": [
        "import time\n",
        "import statsmodels.api as sm"
      ],
      "metadata": {
        "id": "CfZ2N4Lsjh8V"
      },
      "execution_count": null,
      "outputs": []
    },
    {
      "cell_type": "markdown",
      "metadata": {
        "id": "nV8oDqMS4ABI"
      },
      "source": [
        "##Learning curve"
      ]
    },
    {
      "cell_type": "code",
      "source": [
        "from sklearn.model_selection import train_test_split\n",
        "from sklearn.preprocessing import StandardScaler\n",
        "from sklearn.pipeline import make_pipeline\n",
        "from sklearn.ensemble import ExtraTreesRegressor\n",
        "from sklearn.model_selection import learning_curve\n",
        "from sklearn import datasets\n",
        "import matplotlib.pyplot as plt\n",
        "\n",
        "\n",
        "# Create a pipeline; This will be passed as an estimator to learning curve method\n",
        "#\n",
        "pipeline = make_pipeline(StandardScaler(),\n",
        "                        ExtraTreesRegressor())\n",
        "#\n",
        "# Use learning curve to get training and test scores along with train sizes\n",
        "#\n",
        "train_sizes, train_scores, test_scores = learning_curve(estimator=pipeline, X=X, y=y, cv=10, train_sizes=np.linspace(0.01, 1.0, 50), n_jobs=1)\n",
        "#\n",
        "# Calculate training and test mean and std\n",
        "#\n",
        "train_mean = np.mean(train_scores, axis=1)\n",
        "train_std = np.std(train_scores, axis=1)\n",
        "test_mean = np.mean(test_scores, axis=1)\n",
        "test_std = np.std(test_scores, axis=1)\n",
        "#\n",
        "# Plot the learning curve\n",
        "#\n",
        "plt.plot(train_sizes, train_mean, color='blue', marker='o', markersize=5, label='Training Accuracy')\n",
        "plt.fill_between(train_sizes, train_mean + train_std, train_mean - train_std, alpha=0.15, color='blue')\n",
        "plt.plot(train_sizes, test_mean, color='green', marker='+', markersize=5, linestyle='--', label='Validation Accuracy')\n",
        "plt.fill_between(train_sizes, test_mean + test_std, test_mean - test_std, alpha=0.15, color='green')\n",
        "plt.title('Learning Curve')\n",
        "plt.xlabel('Training Data Size')\n",
        "plt.ylabel(r'$R^2 score$')\n",
        "plt.grid()\n",
        "plt.legend(loc='lower right')\n",
        "plt.show()"
      ],
      "metadata": {
        "id": "3FDKgcc18WlT"
      },
      "execution_count": null,
      "outputs": []
    },
    {
      "cell_type": "code",
      "source": [
        "from matplotlib.pyplot import figure\n",
        "import matplotlib\n",
        "matplotlib.rcParams.update({'font.size': 22})\n",
        "figure(figsize=(10, 10), dpi=80)\n",
        "plt.plot(train_sizes, train_mean, color='blue', marker='o', markersize=10, label='Training Accuracy')\n",
        "plt.fill_between(train_sizes, train_mean + train_std, train_mean - train_std, alpha=0.15, color='blue')\n",
        "plt.plot(train_sizes, test_mean, color='green', marker='+', markersize=10, linestyle='--', label='Validation Accuracy')\n",
        "plt.fill_between(train_sizes, test_mean + test_std, test_mean - test_std, alpha=0.15, color='green')\n",
        "plt.xlabel('Train data size')\n",
        "plt.ylabel(r'$R^2 score$')\n",
        "plt.grid()\n",
        "plt.legend(loc='lower right')\n",
        "plt.show()"
      ],
      "metadata": {
        "id": "TAa8lGKJBznc"
      },
      "execution_count": null,
      "outputs": []
    }
  ]
}