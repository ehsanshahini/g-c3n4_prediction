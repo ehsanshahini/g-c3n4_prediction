{
  "nbformat": 4,
  "nbformat_minor": 0,
  "metadata": {
    "colab": {
      "provenance": [],
      "collapsed_sections": [
        "O2wvZ7SKXzVC",
        "ptNjcy7bOBlD",
        "42j1k7gtCtFY",
        "YZ59qCOuEqGp",
        "o5SYS5ccDEpo",
        "dudnlB_WDYl9",
        "jvqnxkJEEoF-",
        "76_VimTNEKTW",
        "PLP5WXslDBba",
        "DhQJYmm3qdoT",
        "kPN5NpYWCtU1",
        "rOXfDsjZ4_tz",
        "nV8oDqMS4ABI"
      ],
      "include_colab_link": true
    },
    "kernelspec": {
      "name": "python3",
      "display_name": "Python 3"
    },
    "widgets": {
      "application/vnd.jupyter.widget-state+json": {
        "76077e7a7b9e4d239112f9f41a7b5833": {
          "model_module": "@jupyter-widgets/controls",
          "model_name": "HBoxModel",
          "model_module_version": "1.5.0",
          "state": {
            "_dom_classes": [],
            "_model_module": "@jupyter-widgets/controls",
            "_model_module_version": "1.5.0",
            "_model_name": "HBoxModel",
            "_view_count": null,
            "_view_module": "@jupyter-widgets/controls",
            "_view_module_version": "1.5.0",
            "_view_name": "HBoxView",
            "box_style": "",
            "children": [
              "IPY_MODEL_3af2ae7d4560402dbde10a0102db1245",
              "IPY_MODEL_2fd0e6de0b7d4accb491db11c816f951",
              "IPY_MODEL_1fa17588dea1480091b904bcb3f3c633"
            ],
            "layout": "IPY_MODEL_f5d26df89b26432e8066247fd016a0e8"
          }
        },
        "3af2ae7d4560402dbde10a0102db1245": {
          "model_module": "@jupyter-widgets/controls",
          "model_name": "HTMLModel",
          "model_module_version": "1.5.0",
          "state": {
            "_dom_classes": [],
            "_model_module": "@jupyter-widgets/controls",
            "_model_module_version": "1.5.0",
            "_model_name": "HTMLModel",
            "_view_count": null,
            "_view_module": "@jupyter-widgets/controls",
            "_view_module_version": "1.5.0",
            "_view_name": "HTMLView",
            "description": "",
            "description_tooltip": null,
            "layout": "IPY_MODEL_cd364229355043c5abcfd909f2141378",
            "placeholder": "​",
            "style": "IPY_MODEL_cdef7bcbd8c64a989c7206883b1ab68c",
            "value": "Loop...: 100%"
          }
        },
        "2fd0e6de0b7d4accb491db11c816f951": {
          "model_module": "@jupyter-widgets/controls",
          "model_name": "FloatProgressModel",
          "model_module_version": "1.5.0",
          "state": {
            "_dom_classes": [],
            "_model_module": "@jupyter-widgets/controls",
            "_model_module_version": "1.5.0",
            "_model_name": "FloatProgressModel",
            "_view_count": null,
            "_view_module": "@jupyter-widgets/controls",
            "_view_module_version": "1.5.0",
            "_view_name": "ProgressView",
            "bar_style": "success",
            "description": "",
            "description_tooltip": null,
            "layout": "IPY_MODEL_dc81290631af4041bffdc40576f18820",
            "max": 8,
            "min": 0,
            "orientation": "horizontal",
            "style": "IPY_MODEL_06ec0c05cfd147c1bb1dad725e205db6",
            "value": 8
          }
        },
        "1fa17588dea1480091b904bcb3f3c633": {
          "model_module": "@jupyter-widgets/controls",
          "model_name": "HTMLModel",
          "model_module_version": "1.5.0",
          "state": {
            "_dom_classes": [],
            "_model_module": "@jupyter-widgets/controls",
            "_model_module_version": "1.5.0",
            "_model_name": "HTMLModel",
            "_view_count": null,
            "_view_module": "@jupyter-widgets/controls",
            "_view_module_version": "1.5.0",
            "_view_name": "HTMLView",
            "description": "",
            "description_tooltip": null,
            "layout": "IPY_MODEL_7d47c6bed09646d19a05f06a2ebc7078",
            "placeholder": "​",
            "style": "IPY_MODEL_e9d2351c64d0405895fd760300d1d419",
            "value": " 8/8 [05:15&lt;00:00, 27.37s/it]"
          }
        },
        "f5d26df89b26432e8066247fd016a0e8": {
          "model_module": "@jupyter-widgets/base",
          "model_name": "LayoutModel",
          "model_module_version": "1.2.0",
          "state": {
            "_model_module": "@jupyter-widgets/base",
            "_model_module_version": "1.2.0",
            "_model_name": "LayoutModel",
            "_view_count": null,
            "_view_module": "@jupyter-widgets/base",
            "_view_module_version": "1.2.0",
            "_view_name": "LayoutView",
            "align_content": null,
            "align_items": null,
            "align_self": null,
            "border": null,
            "bottom": null,
            "display": null,
            "flex": null,
            "flex_flow": null,
            "grid_area": null,
            "grid_auto_columns": null,
            "grid_auto_flow": null,
            "grid_auto_rows": null,
            "grid_column": null,
            "grid_gap": null,
            "grid_row": null,
            "grid_template_areas": null,
            "grid_template_columns": null,
            "grid_template_rows": null,
            "height": null,
            "justify_content": null,
            "justify_items": null,
            "left": null,
            "margin": null,
            "max_height": null,
            "max_width": null,
            "min_height": null,
            "min_width": null,
            "object_fit": null,
            "object_position": null,
            "order": null,
            "overflow": null,
            "overflow_x": null,
            "overflow_y": null,
            "padding": null,
            "right": null,
            "top": null,
            "visibility": null,
            "width": null
          }
        },
        "cd364229355043c5abcfd909f2141378": {
          "model_module": "@jupyter-widgets/base",
          "model_name": "LayoutModel",
          "model_module_version": "1.2.0",
          "state": {
            "_model_module": "@jupyter-widgets/base",
            "_model_module_version": "1.2.0",
            "_model_name": "LayoutModel",
            "_view_count": null,
            "_view_module": "@jupyter-widgets/base",
            "_view_module_version": "1.2.0",
            "_view_name": "LayoutView",
            "align_content": null,
            "align_items": null,
            "align_self": null,
            "border": null,
            "bottom": null,
            "display": null,
            "flex": null,
            "flex_flow": null,
            "grid_area": null,
            "grid_auto_columns": null,
            "grid_auto_flow": null,
            "grid_auto_rows": null,
            "grid_column": null,
            "grid_gap": null,
            "grid_row": null,
            "grid_template_areas": null,
            "grid_template_columns": null,
            "grid_template_rows": null,
            "height": null,
            "justify_content": null,
            "justify_items": null,
            "left": null,
            "margin": null,
            "max_height": null,
            "max_width": null,
            "min_height": null,
            "min_width": null,
            "object_fit": null,
            "object_position": null,
            "order": null,
            "overflow": null,
            "overflow_x": null,
            "overflow_y": null,
            "padding": null,
            "right": null,
            "top": null,
            "visibility": null,
            "width": null
          }
        },
        "cdef7bcbd8c64a989c7206883b1ab68c": {
          "model_module": "@jupyter-widgets/controls",
          "model_name": "DescriptionStyleModel",
          "model_module_version": "1.5.0",
          "state": {
            "_model_module": "@jupyter-widgets/controls",
            "_model_module_version": "1.5.0",
            "_model_name": "DescriptionStyleModel",
            "_view_count": null,
            "_view_module": "@jupyter-widgets/base",
            "_view_module_version": "1.2.0",
            "_view_name": "StyleView",
            "description_width": ""
          }
        },
        "dc81290631af4041bffdc40576f18820": {
          "model_module": "@jupyter-widgets/base",
          "model_name": "LayoutModel",
          "model_module_version": "1.2.0",
          "state": {
            "_model_module": "@jupyter-widgets/base",
            "_model_module_version": "1.2.0",
            "_model_name": "LayoutModel",
            "_view_count": null,
            "_view_module": "@jupyter-widgets/base",
            "_view_module_version": "1.2.0",
            "_view_name": "LayoutView",
            "align_content": null,
            "align_items": null,
            "align_self": null,
            "border": null,
            "bottom": null,
            "display": null,
            "flex": null,
            "flex_flow": null,
            "grid_area": null,
            "grid_auto_columns": null,
            "grid_auto_flow": null,
            "grid_auto_rows": null,
            "grid_column": null,
            "grid_gap": null,
            "grid_row": null,
            "grid_template_areas": null,
            "grid_template_columns": null,
            "grid_template_rows": null,
            "height": null,
            "justify_content": null,
            "justify_items": null,
            "left": null,
            "margin": null,
            "max_height": null,
            "max_width": null,
            "min_height": null,
            "min_width": null,
            "object_fit": null,
            "object_position": null,
            "order": null,
            "overflow": null,
            "overflow_x": null,
            "overflow_y": null,
            "padding": null,
            "right": null,
            "top": null,
            "visibility": null,
            "width": null
          }
        },
        "06ec0c05cfd147c1bb1dad725e205db6": {
          "model_module": "@jupyter-widgets/controls",
          "model_name": "ProgressStyleModel",
          "model_module_version": "1.5.0",
          "state": {
            "_model_module": "@jupyter-widgets/controls",
            "_model_module_version": "1.5.0",
            "_model_name": "ProgressStyleModel",
            "_view_count": null,
            "_view_module": "@jupyter-widgets/base",
            "_view_module_version": "1.2.0",
            "_view_name": "StyleView",
            "bar_color": null,
            "description_width": ""
          }
        },
        "7d47c6bed09646d19a05f06a2ebc7078": {
          "model_module": "@jupyter-widgets/base",
          "model_name": "LayoutModel",
          "model_module_version": "1.2.0",
          "state": {
            "_model_module": "@jupyter-widgets/base",
            "_model_module_version": "1.2.0",
            "_model_name": "LayoutModel",
            "_view_count": null,
            "_view_module": "@jupyter-widgets/base",
            "_view_module_version": "1.2.0",
            "_view_name": "LayoutView",
            "align_content": null,
            "align_items": null,
            "align_self": null,
            "border": null,
            "bottom": null,
            "display": null,
            "flex": null,
            "flex_flow": null,
            "grid_area": null,
            "grid_auto_columns": null,
            "grid_auto_flow": null,
            "grid_auto_rows": null,
            "grid_column": null,
            "grid_gap": null,
            "grid_row": null,
            "grid_template_areas": null,
            "grid_template_columns": null,
            "grid_template_rows": null,
            "height": null,
            "justify_content": null,
            "justify_items": null,
            "left": null,
            "margin": null,
            "max_height": null,
            "max_width": null,
            "min_height": null,
            "min_width": null,
            "object_fit": null,
            "object_position": null,
            "order": null,
            "overflow": null,
            "overflow_x": null,
            "overflow_y": null,
            "padding": null,
            "right": null,
            "top": null,
            "visibility": null,
            "width": null
          }
        },
        "e9d2351c64d0405895fd760300d1d419": {
          "model_module": "@jupyter-widgets/controls",
          "model_name": "DescriptionStyleModel",
          "model_module_version": "1.5.0",
          "state": {
            "_model_module": "@jupyter-widgets/controls",
            "_model_module_version": "1.5.0",
            "_model_name": "DescriptionStyleModel",
            "_view_count": null,
            "_view_module": "@jupyter-widgets/base",
            "_view_module_version": "1.2.0",
            "_view_name": "StyleView",
            "description_width": ""
          }
        }
      }
    }
  },
  "cells": [
    {
      "cell_type": "markdown",
      "metadata": {
        "id": "view-in-github",
        "colab_type": "text"
      },
      "source": [
        "<a href=\"https://colab.research.google.com/github/ehsanshahini/g-c3n4_prediction/blob/main/g_C3N4.ipynb\" target=\"_parent\"><img src=\"https://colab.research.google.com/assets/colab-badge.svg\" alt=\"Open In Colab\"/></a>"
      ]
    },
    {
      "cell_type": "markdown",
      "metadata": {
        "id": "LeamvpPVXuS_"
      },
      "source": [
        "\n",
        "# Predicting ΔG_exf and ΔG_sol (SFE)\n"
      ]
    },
    {
      "cell_type": "markdown",
      "metadata": {
        "id": "O2wvZ7SKXzVC"
      },
      "source": [
        "## Importing the libraries"
      ]
    },
    {
      "cell_type": "code",
      "metadata": {
        "id": "PVmESEFZX4Ig"
      },
      "source": [
        "import numpy as np\n",
        "import matplotlib.pyplot as plt\n",
        "import pandas as pd\n",
        "import sys\n",
        "from pylab import rcParams\n",
        "import seaborn as sns\n",
        "from sklearn.model_selection import train_test_split\n",
        "from sklearn import model_selection, tree, preprocessing, metrics, linear_model\n",
        "from sklearn.metrics import mean_squared_error\n",
        "from sklearn.model_selection import cross_val_predict"
      ],
      "execution_count": null,
      "outputs": []
    },
    {
      "cell_type": "markdown",
      "metadata": {
        "id": "zgbK_F8-X7em"
      },
      "source": [
        "## Importing the dataset"
      ]
    },
    {
      "cell_type": "code",
      "metadata": {
        "id": "adBE4tjQX_Bh"
      },
      "source": [
        "dataset = pd.read_csv('Data.csv')\n",
        "# optimal subset of features for predicting deltaG_exf\n",
        "dataset = dataset[['Heat of vaporization','Dielectric constant', 'Surface tension', 'Density', 'MW', 'deltaG(exf)', 'Solvent_number']]\n",
        "# optimal subset of features for predicting deltaG_sol \n",
        "#dataset = dataset[['Dielectric constant', 'Surface tension', 'Thermal expansion', 'MW', 'PAC mean heavy atoms', 'PAC max', 'deltaG(sol)', 'Solvent_number']]\n",
        "X = dataset.iloc[:, :-2]\n",
        "y = dataset.iloc[:, -2].values "
      ],
      "execution_count": null,
      "outputs": []
    },
    {
      "cell_type": "markdown",
      "source": [
        "##Machine learning models"
      ],
      "metadata": {
        "id": "HG-wvbV4CylH"
      }
    },
    {
      "cell_type": "markdown",
      "metadata": {
        "id": "ptNjcy7bOBlD"
      },
      "source": [
        "###Splitting the dataset into the Training set and Test set\n",
        "\n",
        "\n",
        "\n"
      ]
    },
    {
      "cell_type": "code",
      "source": [
        "from sklearn.model_selection import train_test_split\n",
        "X_train, X_test, y_train, y_test = train_test_split(X, y, test_size = 0.33, random_state = 41)"
      ],
      "metadata": {
        "id": "EFONwFDDDoO7"
      },
      "execution_count": null,
      "outputs": []
    },
    {
      "cell_type": "markdown",
      "source": [
        "###Function that runs the requested algorithm and returns the accuracy metrics"
      ],
      "metadata": {
        "id": "42j1k7gtCtFY"
      }
    },
    {
      "cell_type": "code",
      "source": [
        "def fit_ml_algo(algo, X_train, y_train, cv):\n",
        "    \n",
        "    # One Pass\n",
        "    model = algo.fit(X_train, y_train)\n",
        "    acc = round(model.score(X_test, y_test) * 100, 2)\n",
        "    \n",
        "    # Cross Validation \n",
        "    y_pred = cross_val_predict(algo,\n",
        "                               X,\n",
        "                               y,\n",
        "                               cv=cv,\n",
        "                               n_jobs = -1)\n",
        "    # Cross-validation accuracy metric\n",
        "    acc_cv = round(metrics.r2_score(y, y_pred) * 100, 2)\n",
        "    rmse = mean_squared_error(y_pred, y, squared=False)\n",
        "    return y_pred, acc, acc_cv, rmse"
      ],
      "metadata": {
        "id": "whkhscVWzrpd"
      },
      "execution_count": null,
      "outputs": []
    },
    {
      "cell_type": "markdown",
      "source": [
        "###Extra Trees Regressor"
      ],
      "metadata": {
        "id": "YZ59qCOuEqGp"
      }
    },
    {
      "cell_type": "code",
      "source": [
        "from sklearn.ensemble import ExtraTreesRegressor\n",
        "y_pred, acc_log, acc_cv_log, rmse = fit_ml_algo(ExtraTreesRegressor(n_estimators=100), \n",
        "                                                               X_train, \n",
        "                                                               y_train, 10)\n",
        "print(\"Accuracy: %s\" % acc_log)\n",
        "print(\"Accuracy CV 10-Fold: %s\" % acc_cv_log)\n",
        "rmse = np.format_float_positional(rmse, precision=4, unique=False, fractional=False, trim='k')\n",
        "print(\"RMSE = %s\" % rmse)"
      ],
      "metadata": {
        "colab": {
          "base_uri": "https://localhost:8080/"
        },
        "id": "kqNN_9m8DQI2",
        "outputId": "ce26ee4c-a581-45b4-9763-e229b67bd5c9"
      },
      "execution_count": null,
      "outputs": [
        {
          "output_type": "stream",
          "name": "stdout",
          "text": [
            "Accuracy: 42.28\n",
            "Accuracy CV 10-Fold: 80.0\n",
            "RMSE = 3.908\n"
          ]
        }
      ]
    },
    {
      "cell_type": "code",
      "source": [
        "fig, ax = plt.subplots()\n",
        "ax.scatter(y, y_pred, edgecolors=(0, 0, 0))\n",
        "ax.plot([y.min(), y.max()], [y.min(), y.max()], \"k--\", lw=4)\n",
        "ax.set_xlabel(r'$Measured \\Delta G_{exf} (kJ/mol.nm^2)$')\n",
        "ax.set_ylabel(r'$Predicted \\Delta G_{exf} (kJ/mol.nm^2)$')\n",
        "ax.set_title('ETR')\n",
        "#ax.text(min(y)-1,max(y)-3, r'$R^2 = %s$' %acc_cv_log, style='italic')\n",
        "#ax.text(min(y)-1,max(y)-5, r'$RMSE = %s (kJ/mol.nm^2)$' % rmse, style='italic')\n",
        "ax.text(min(y)-1,max(y)-3, r'$R^2 = 82.22$' , style='italic')\n",
        "ax.text(min(y)-1,max(y)-5, r'$RMSE = 14.74 (kJ/mol.nm^2)$' , style='italic')\n",
        "plt.show()"
      ],
      "metadata": {
        "id": "VeAbESDOEe5s",
        "colab": {
          "base_uri": "https://localhost:8080/",
          "height": 487
        },
        "outputId": "981e17b7-6fb7-4d7a-c19e-4a0aa621ee2b"
      },
      "execution_count": null,
      "outputs": [
        {
          "output_type": "error",
          "ename": "NameError",
          "evalue": "ignored",
          "traceback": [
            "\u001b[0;31m---------------------------------------------------------------------------\u001b[0m",
            "\u001b[0;31mNameError\u001b[0m                                 Traceback (most recent call last)",
            "\u001b[0;32m<ipython-input-6-68a22436e79d>\u001b[0m in \u001b[0;36m<module>\u001b[0;34m\u001b[0m\n\u001b[1;32m      1\u001b[0m \u001b[0mfig\u001b[0m\u001b[0;34m,\u001b[0m \u001b[0max\u001b[0m \u001b[0;34m=\u001b[0m \u001b[0mplt\u001b[0m\u001b[0;34m.\u001b[0m\u001b[0msubplots\u001b[0m\u001b[0;34m(\u001b[0m\u001b[0;34m)\u001b[0m\u001b[0;34m\u001b[0m\u001b[0;34m\u001b[0m\u001b[0m\n\u001b[0;32m----> 2\u001b[0;31m \u001b[0max\u001b[0m\u001b[0;34m.\u001b[0m\u001b[0mscatter\u001b[0m\u001b[0;34m(\u001b[0m\u001b[0my\u001b[0m\u001b[0;34m,\u001b[0m \u001b[0my_pred\u001b[0m\u001b[0;34m,\u001b[0m \u001b[0medgecolors\u001b[0m\u001b[0;34m=\u001b[0m\u001b[0;34m(\u001b[0m\u001b[0;36m0\u001b[0m\u001b[0;34m,\u001b[0m \u001b[0;36m0\u001b[0m\u001b[0;34m,\u001b[0m \u001b[0;36m0\u001b[0m\u001b[0;34m)\u001b[0m\u001b[0;34m)\u001b[0m\u001b[0;34m\u001b[0m\u001b[0;34m\u001b[0m\u001b[0m\n\u001b[0m\u001b[1;32m      3\u001b[0m \u001b[0max\u001b[0m\u001b[0;34m.\u001b[0m\u001b[0mplot\u001b[0m\u001b[0;34m(\u001b[0m\u001b[0;34m[\u001b[0m\u001b[0my\u001b[0m\u001b[0;34m.\u001b[0m\u001b[0mmin\u001b[0m\u001b[0;34m(\u001b[0m\u001b[0;34m)\u001b[0m\u001b[0;34m,\u001b[0m \u001b[0my\u001b[0m\u001b[0;34m.\u001b[0m\u001b[0mmax\u001b[0m\u001b[0;34m(\u001b[0m\u001b[0;34m)\u001b[0m\u001b[0;34m]\u001b[0m\u001b[0;34m,\u001b[0m \u001b[0;34m[\u001b[0m\u001b[0my\u001b[0m\u001b[0;34m.\u001b[0m\u001b[0mmin\u001b[0m\u001b[0;34m(\u001b[0m\u001b[0;34m)\u001b[0m\u001b[0;34m,\u001b[0m \u001b[0my\u001b[0m\u001b[0;34m.\u001b[0m\u001b[0mmax\u001b[0m\u001b[0;34m(\u001b[0m\u001b[0;34m)\u001b[0m\u001b[0;34m]\u001b[0m\u001b[0;34m,\u001b[0m \u001b[0;34m\"k--\"\u001b[0m\u001b[0;34m,\u001b[0m \u001b[0mlw\u001b[0m\u001b[0;34m=\u001b[0m\u001b[0;36m4\u001b[0m\u001b[0;34m)\u001b[0m\u001b[0;34m\u001b[0m\u001b[0;34m\u001b[0m\u001b[0m\n\u001b[1;32m      4\u001b[0m \u001b[0max\u001b[0m\u001b[0;34m.\u001b[0m\u001b[0mset_xlabel\u001b[0m\u001b[0;34m(\u001b[0m\u001b[0;34mr'$Measured \\Delta G_{exf} (kJ/mol.nm^2)$'\u001b[0m\u001b[0;34m)\u001b[0m\u001b[0;34m\u001b[0m\u001b[0;34m\u001b[0m\u001b[0m\n\u001b[1;32m      5\u001b[0m \u001b[0max\u001b[0m\u001b[0;34m.\u001b[0m\u001b[0mset_ylabel\u001b[0m\u001b[0;34m(\u001b[0m\u001b[0;34mr'$Predicted \\Delta G_{exf} (kJ/mol.nm^2)$'\u001b[0m\u001b[0;34m)\u001b[0m\u001b[0;34m\u001b[0m\u001b[0;34m\u001b[0m\u001b[0m\n",
            "\u001b[0;31mNameError\u001b[0m: name 'y_pred' is not defined"
          ]
        },
        {
          "output_type": "display_data",
          "data": {
            "text/plain": [
              "<Figure size 432x288 with 1 Axes>"
            ],
            "image/png": "[encoded data removed]"
          },
          "metadata": {
            "needs_background": "light"
          }
        }
      ]
    },
    {
      "cell_type": "code",
      "source": [
        "from numpy import savetxt\n",
        "savetxt('res.csv', (np.c_[y, y_pred]), delimiter=',')"
      ],
      "metadata": {
        "id": "8CsrgX-obBRw"
      },
      "execution_count": null,
      "outputs": []
    },
    {
      "cell_type": "markdown",
      "source": [
        "###Random forest"
      ],
      "metadata": {
        "id": "o5SYS5ccDEpo"
      }
    },
    {
      "cell_type": "code",
      "source": [
        "from sklearn.ensemble import RandomForestRegressor\n",
        "y_pred, acc_log, acc_cv_log, rmse = fit_ml_algo(RandomForestRegressor(), \n",
        "                                                               X_train, \n",
        "                                                               y_train, 10)\n",
        "print(\"Accuracy: %s\" % acc_log)\n",
        "print(\"Accuracy CV 10-Fold: %s\" % acc_cv_log)\n",
        "rmse = np.format_float_positional(rmse, precision=4, unique=False, fractional=False, trim='k')\n",
        "print(\"RMSE = %s\" % rmse)"
      ],
      "metadata": {
        "colab": {
          "base_uri": "https://localhost:8080/"
        },
        "id": "TCv4B41w_aIj",
        "outputId": "96e9ede6-8e93-4e8f-ec57-1ae43f973b0c"
      },
      "execution_count": null,
      "outputs": [
        {
          "output_type": "stream",
          "name": "stdout",
          "text": [
            "Accuracy: 75.79\n",
            "Accuracy CV 10-Fold: 79.51\n",
            "RMSE = 8.861\n"
          ]
        }
      ]
    },
    {
      "cell_type": "code",
      "source": [
        "fig, ax = plt.subplots()\n",
        "ax.scatter(y, y_pred, edgecolors=(0, 0, 0))\n",
        "ax.plot([y.min(), y.max()], [y.min(), y.max()], \"k--\", lw=4)\n",
        "ax.set_xlabel(r'$Measured \\Delta G_{exf} (kJ/mol.nm^2)$')\n",
        "ax.set_ylabel(r'$Predicted \\Delta G_{exf} (kJ/mol.nm^2)$')\n",
        "ax.set_title('RFR')\n",
        "ax.text(min(y)-1,max(y)-3, r'$R^2 = %s$' %acc_cv_log, style='italic')\n",
        "ax.text(min(y)-1,max(y)-5, r'$RMSE = %s (kJ/mol.nm^2)$' % rmse, style='italic')\n",
        "plt.show()"
      ],
      "metadata": {
        "id": "pSda8zSL7EEZ",
        "colab": {
          "base_uri": "https://localhost:8080/",
          "height": 301
        },
        "outputId": "624cf25c-b448-42ec-ff32-1d53fd602e10"
      },
      "execution_count": null,
      "outputs": [
        {
          "output_type": "display_data",
          "data": {
            "text/plain": [
              "<Figure size 432x288 with 1 Axes>"
            ],
            "image/png": "[encoded data removed]"
          },
          "metadata": {
            "needs_background": "light"
          }
        }
      ]
    },
    {
      "cell_type": "markdown",
      "source": [
        "###Gradient boosting"
      ],
      "metadata": {
        "id": "dudnlB_WDYl9"
      }
    },
    {
      "cell_type": "code",
      "source": [
        "from sklearn.ensemble import GradientBoostingRegressor\n",
        "y_pred, acc_log, acc_cv_log, rmse = fit_ml_algo(GradientBoostingRegressor(), \n",
        "                                                               X_train, \n",
        "                                                               y_train, 10)\n",
        "print(\"Accuracy: %s\" % acc_log)\n",
        "print(\"Accuracy CV 10-Fold: %s\" % acc_cv_log)\n",
        "rmse = np.format_float_positional(rmse, precision=4, unique=False, fractional=False, trim='k')\n",
        "print(\"RMSE = %s\" % rmse)"
      ],
      "metadata": {
        "colab": {
          "base_uri": "https://localhost:8080/"
        },
        "id": "u_MebG-jDc_R",
        "outputId": "19ba899c-0d6b-405f-dc74-5d0b0cd96734"
      },
      "execution_count": null,
      "outputs": [
        {
          "output_type": "stream",
          "name": "stdout",
          "text": [
            "Accuracy: 75.7\n",
            "Accuracy CV 10-Fold: 77.71\n",
            "RMSE = 9.241\n"
          ]
        }
      ]
    },
    {
      "cell_type": "code",
      "source": [
        "fig, ax = plt.subplots()\n",
        "ax.scatter(y, y_pred, edgecolors=(0, 0, 0))\n",
        "ax.plot([y.min(), y.max()], [y.min(), y.max()], \"k--\", lw=4)\n",
        "ax.set_xlabel(r'$Measured \\Delta G_{exf} (kJ/mol.nm^2)$')\n",
        "ax.set_ylabel(r'$Predicted \\Delta G_{exf} (kJ/mol.nm^2)$')\n",
        "ax.set_title('GBR')\n",
        "ax.text(min(y)-1,max(y)-3, r'$R^2 = %s$' %acc_cv_log, style='italic')\n",
        "ax.text(min(y)-1,max(y)-5, r'$RMSE = %s (kJ/mol.nm^2)$' % rmse, style='italic')\n",
        "plt.show()"
      ],
      "metadata": {
        "colab": {
          "base_uri": "https://localhost:8080/",
          "height": 301
        },
        "id": "3dfKYN3bTMip",
        "outputId": "03da68d5-187a-4a5b-afaf-63cf7ace21c6"
      },
      "execution_count": null,
      "outputs": [
        {
          "output_type": "display_data",
          "data": {
            "text/plain": [
              "<Figure size 432x288 with 1 Axes>"
            ],
            "image/png": "[encoded data removed]"
          },
          "metadata": {
            "needs_background": "light"
          }
        }
      ]
    },
    {
      "cell_type": "markdown",
      "source": [
        "### AdaBoostRegressor"
      ],
      "metadata": {
        "id": "jvqnxkJEEoF-"
      }
    },
    {
      "cell_type": "code",
      "source": [
        "from sklearn.ensemble import AdaBoostRegressor\n",
        "y_pred, acc_log, acc_cv_log, rmse = fit_ml_algo(AdaBoostRegressor(n_estimators=100), \n",
        "                                                               X_train, \n",
        "                                                               y_train, 10)\n",
        "print(\"Accuracy: %s\" % acc_log)\n",
        "print(\"Accuracy CV 10-Fold: %s\" % acc_cv_log)\n",
        "rmse = np.format_float_positional(rmse, precision=4, unique=False, fractional=False, trim='k')\n",
        "print(\"RMSE = %s\" % rmse)"
      ],
      "metadata": {
        "colab": {
          "base_uri": "https://localhost:8080/"
        },
        "id": "yUzy7ri5EvlN",
        "outputId": "ecfef9cf-68ed-4dcb-ea36-c08088ebfb66"
      },
      "execution_count": null,
      "outputs": [
        {
          "output_type": "stream",
          "name": "stdout",
          "text": [
            "Accuracy: 80.01\n",
            "Accuracy CV 10-Fold: 76.69\n",
            "RMSE = 9.450\n"
          ]
        }
      ]
    },
    {
      "cell_type": "code",
      "source": [
        "fig, ax = plt.subplots()\n",
        "ax.scatter(y, y_pred, edgecolors=(0, 0, 0))\n",
        "ax.plot([y.min(), y.max()], [y.min(), y.max()], \"k--\", lw=4)\n",
        "ax.set_xlabel(r'$Measured \\Delta G_{exf} (kJ/mol.nm^2)$')\n",
        "ax.set_ylabel(r'$Predicted \\Delta G_{exf} (kJ/mol.nm^2)$')\n",
        "ax.set_title('ABR')\n",
        "ax.text(min(y)-1,max(y)-3, r'$R^2 = %s$' %acc_cv_log, style='italic')\n",
        "ax.text(min(y)-1,max(y)-5, r'$RMSE = %s (kJ/mol.nm^2)$' % rmse, style='italic')\n",
        "plt.show()"
      ],
      "metadata": {
        "colab": {
          "base_uri": "https://localhost:8080/",
          "height": 301
        },
        "id": "ilQqCBh8Exxk",
        "outputId": "c101d05c-9b61-42a9-ebe1-e71f6cefa23b"
      },
      "execution_count": null,
      "outputs": [
        {
          "output_type": "display_data",
          "data": {
            "text/plain": [
              "<Figure size 432x288 with 1 Axes>"
            ],
            "image/png": "[encoded data removed]"
          },
          "metadata": {
            "needs_background": "light"
          }
        }
      ]
    },
    {
      "cell_type": "markdown",
      "source": [
        "### Bayesian ridge"
      ],
      "metadata": {
        "id": "76_VimTNEKTW"
      }
    },
    {
      "cell_type": "code",
      "source": [
        "from sklearn.linear_model import BayesianRidge\n",
        "y_pred, acc_log, acc_cv_log, rmse = fit_ml_algo(BayesianRidge(),\n",
        "                                          X_train,\n",
        "                                          y_train, 10)\n",
        "print(\"Accuracy: %s\" % acc_log)\n",
        "print(\"Accuracy CV 10-Fold: %s\" % acc_cv_log)\n",
        "rmse = np.format_float_positional(rmse, precision=4, unique=False, fractional=False, trim='k')\n",
        "print(\"RMSE = %s\" % rmse)"
      ],
      "metadata": {
        "colab": {
          "base_uri": "https://localhost:8080/"
        },
        "id": "kEf6f6ktX4Di",
        "outputId": "4e982437-2575-42eb-e02a-bdd5fc8e9ade"
      },
      "execution_count": null,
      "outputs": [
        {
          "output_type": "stream",
          "name": "stdout",
          "text": [
            "Accuracy: 29.77\n",
            "Accuracy CV 10-Fold: 10.98\n",
            "RMSE = 18.47\n"
          ]
        }
      ]
    },
    {
      "cell_type": "code",
      "source": [
        "fig, ax = plt.subplots()\n",
        "ax.scatter(y, y_pred, edgecolors=(0, 0, 0))\n",
        "ax.plot([y.min(), y.max()], [y.min(), y.max()], \"k--\", lw=4)\n",
        "ax.set_xlabel(r'$Measured \\Delta G_{exf} (kJ/mol.nm^2)$')\n",
        "ax.set_ylabel(r'$Predicted \\Delta G_{exf} (kJ/mol.nm^2)$')\n",
        "ax.set_title('BRR')\n",
        "ax.text(min(y)-1,max(y)-3, r'$R^2 = %s$' %acc_cv_log, style='italic')\n",
        "ax.text(min(y)-1,max(y)-5, r'$RMSE = %s (kJ/mol.nm^2)$' % rmse, style='italic')\n",
        "plt.show()"
      ],
      "metadata": {
        "id": "va69B0m1ZBU3",
        "colab": {
          "base_uri": "https://localhost:8080/",
          "height": 301
        },
        "outputId": "0175e1af-0341-4ec4-82d2-803fc190d34a"
      },
      "execution_count": null,
      "outputs": [
        {
          "output_type": "display_data",
          "data": {
            "text/plain": [
              "<Figure size 432x288 with 1 Axes>"
            ],
            "image/png": "[encoded data removed]"
          },
          "metadata": {
            "needs_background": "light"
          }
        }
      ]
    },
    {
      "cell_type": "code",
      "source": [
        "from numpy import savetxt\n",
        "savetxt('res.csv', (np.c_[y, y_pred]), delimiter=',')"
      ],
      "metadata": {
        "id": "daGtsOt-ivPz"
      },
      "execution_count": null,
      "outputs": []
    },
    {
      "cell_type": "markdown",
      "source": [
        "###Linear regression"
      ],
      "metadata": {
        "id": "PLP5WXslDBba"
      }
    },
    {
      "cell_type": "code",
      "source": [
        "from sklearn.linear_model import LinearRegression\n",
        "y_pred, acc_log, acc_cv_log, rmse = fit_ml_algo(LinearRegression(), \n",
        "                                                               X_train, \n",
        "                                                               y_train, 5)\n",
        "print(\"Accuracy: %s\" % acc_log)\n",
        "print(\"Accuracy CV 10-Fold: %s\" % acc_cv_log)\n",
        "rmse = np.format_float_positional(rmse, precision=4, unique=False, fractional=False, trim='k')\n",
        "print(\"RMSE = %s\" % rmse)"
      ],
      "metadata": {
        "colab": {
          "base_uri": "https://localhost:8080/"
        },
        "id": "d9QH4ShM9wUl",
        "outputId": "461cb033-8892-4657-9467-c06eee0d489e"
      },
      "execution_count": null,
      "outputs": [
        {
          "output_type": "stream",
          "name": "stdout",
          "text": [
            "Accuracy: 67.85\n",
            "Accuracy CV 10-Fold: 56.18\n",
            "RMSE = 12.96\n"
          ]
        }
      ]
    },
    {
      "cell_type": "code",
      "source": [
        "fig, ax = plt.subplots()\n",
        "ax.scatter(y, y_pred, edgecolors=(0, 0, 0))\n",
        "ax.plot([y.min(), y.max()], [y.min(), y.max()], \"k--\", lw=4)\n",
        "ax.set_xlabel(r'$Measured \\Delta G_{exf} (kJ/mol.nm^2)$')\n",
        "ax.set_ylabel(r'$Predicted \\Delta G_{exf} (kJ/mol.nm^2)$')\n",
        "ax.set_title('LR')\n",
        "ax.text(min(y_pred)+5 ,max(y_pred), r'$R^2 = %s$' %acc_cv_log, style='italic')\n",
        "ax.text(min(y_pred)+5 ,max(y_pred)-3, r'$RMSE = %s (kJ/mol.nm^2)$' % rmse, style='italic')\n",
        "plt.show()"
      ],
      "metadata": {
        "id": "Yg7I-NFETZen",
        "colab": {
          "base_uri": "https://localhost:8080/",
          "height": 301
        },
        "outputId": "46b3abfa-adf7-4e45-8dd0-6c853cb65049"
      },
      "execution_count": null,
      "outputs": [
        {
          "output_type": "display_data",
          "data": {
            "text/plain": [
              "<Figure size 432x288 with 1 Axes>"
            ],
            "image/png": "[encoded data removed]"
          },
          "metadata": {
            "needs_background": "light"
          }
        }
      ]
    },
    {
      "cell_type": "code",
      "source": [
        "from numpy import savetxt\n",
        "savetxt('res.csv', (np.c_[y, y_pred]), delimiter=',')"
      ],
      "metadata": {
        "id": "mL7hu0nFiZBE"
      },
      "execution_count": null,
      "outputs": []
    },
    {
      "cell_type": "code",
      "source": [
        "regressor = LinearRegression()\n",
        "regressor = LinearRegression()\n",
        "regressor.fit(X, y)\n",
        "print(regressor.coef_)\n",
        "print(regressor.intercept_)"
      ],
      "metadata": {
        "colab": {
          "base_uri": "https://localhost:8080/"
        },
        "id": "2NiupAT9HIhb",
        "outputId": "f5a181e1-44ad-4529-91e6-b5077d1a62bd"
      },
      "execution_count": null,
      "outputs": [
        {
          "output_type": "stream",
          "name": "stdout",
          "text": [
            "[-8.25935634e-02  2.10109959e-01 -2.01286072e+01  3.96852907e-04\n",
            "  2.05927347e+01  2.78014920e+01]\n",
            "168.17700793866908\n"
          ]
        }
      ]
    },
    {
      "cell_type": "code",
      "source": [
        "from sklearn.preprocessing import PolynomialFeatures\n",
        "from sklearn.linear_model import LinearRegression\n",
        "poly_reg = PolynomialFeatures(degree = 3)\n",
        "X_poly = poly_reg.fit_transform(X_train)\n",
        "regressor = LinearRegression()\n",
        "regressor.fit(X_poly, y_train)"
      ],
      "metadata": {
        "colab": {
          "base_uri": "https://localhost:8080/"
        },
        "id": "jyGO0oYoUhfV",
        "outputId": "961bf6e9-67ed-4a22-ff35-8ecd11191050"
      },
      "execution_count": null,
      "outputs": [
        {
          "output_type": "execute_result",
          "data": {
            "text/plain": [
              "LinearRegression()"
            ]
          },
          "metadata": {},
          "execution_count": 19
        }
      ]
    },
    {
      "cell_type": "code",
      "source": [
        "y_pred = regressor.predict(poly_reg.transform(X_test))\n",
        "np.set_printoptions(precision=1)\n",
        "print(np.concatenate((y_pred.reshape(len(y_pred),1), y_test.reshape(len(y_test),1)),1))"
      ],
      "metadata": {
        "id": "0T0wcWTcWFuH"
      },
      "execution_count": null,
      "outputs": []
    },
    {
      "cell_type": "code",
      "metadata": {
        "colab": {
          "base_uri": "https://localhost:8080/"
        },
        "id": "87Obpm-1BE_q",
        "outputId": "0cc48b51-315f-4cdd-b6d9-dd3a1df24fec"
      },
      "source": [
        "from sklearn.ensemble import RandomForestRegressor\n",
        "from sklearn.model_selection import cross_validate\n",
        "regressor = RandomForestRegressor(n_estimators = 200,\n",
        "                           n_jobs = -1,\n",
        "                           oob_score = True,\n",
        "                           bootstrap = True,\n",
        "                           random_state = 10)\n",
        "regressor.fit(X, y)\n",
        "\n",
        "print('R^2 Training Score: {:.2f} \\nOOB Score: {:.2f} \\nR^2 Validation Score: {:.2f}'.format(regressor.score(X_train, y_train), \n",
        "                                                                                             regressor.oob_score_,\n",
        "                                                                                             regressor.score(X_test, y_test)))\n",
        "\n",
        "cv = cross_validate(regressor, X, y, cv=5)\n",
        "print(cv['test_score'])\n",
        "print(cv['test_score'].mean())"
      ],
      "execution_count": null,
      "outputs": [
        {
          "output_type": "stream",
          "name": "stdout",
          "text": [
            "R^2 Training Score: 0.96 \n",
            "OOB Score: 0.65 \n",
            "R^2 Validation Score: 0.84\n",
            "[0.42521971 0.64000138 0.60223064 0.25172546 0.35429379]\n",
            "0.45469419644152875\n"
          ]
        }
      ]
    },
    {
      "cell_type": "markdown",
      "source": [
        "### Gradient Boosting Regressor"
      ],
      "metadata": {
        "id": "DhQJYmm3qdoT"
      }
    },
    {
      "cell_type": "code",
      "source": [
        "from sklearn.ensemble import GradientBoostingRegressor\n",
        "regressor = GradientBoostingRegressor(random_state=0)\n",
        "regressor.fit(X_train, y_train)\n",
        "\n",
        "print('R^2 Training Score: {:.2f} \\nR^2 Validation Score: {:.2f}'.format(regressor.score(X_train, y_train),\n",
        "                                                                                             regressor.score(X_test, y_test)))\n",
        "\n",
        "cv = cross_validate(regressor, X, y, cv=5)\n",
        "print(cv['test_score'])\n",
        "print(cv['test_score'].mean())"
      ],
      "metadata": {
        "colab": {
          "base_uri": "https://localhost:8080/"
        },
        "id": "epuycqW5qhKj",
        "outputId": "4349a70d-4471-48d3-e331-4a6c7aec72c3"
      },
      "execution_count": null,
      "outputs": [
        {
          "output_type": "stream",
          "name": "stdout",
          "text": [
            "R^2 Training Score: 1.00 \n",
            "R^2 Validation Score: 0.43\n",
            "[0.49378458 0.62472318 0.7805967  0.42069782 0.40887145]\n",
            "0.5457347452440708\n"
          ]
        }
      ]
    },
    {
      "cell_type": "markdown",
      "source": [
        "## Using experimental values for 49 solvents\n"
      ],
      "metadata": {
        "id": "kPN5NpYWCtU1"
      }
    },
    {
      "cell_type": "code",
      "source": [
        "Solvents_num = [1, 3, 4, 6, 8, 10, 11, 23, 24, 27, 30, 32, 33, 35, 36, 37, 39, 40, 42, 45, 46, 50, 53, 58, 62, 64, 71, 80, 96, 97, 103, 106, 107, 114, 115, 118, 120, 124, 135, 138, 141, 144, 146]\n",
        "CB = [40.97, 5.6, 33.0, 1110, 112.55] # in a respect matter: 'Heat of vaporization','Dielectric c onstant', 'Surface tension', 'Density', 'MW'\n",
        "CHP = [39.61, 7.8, 40.67, 1007, 167.25]\n",
        "DCB = [49, 2.4, 31.4, 1250, 147]\n",
        "IPA = [45.39, 17.9, 22.11, 785, 60.1]\n",
        "NMP = [53.4,33, 40.7, 1033, 99.13]\n",
        "NVP = [55.2, 13.41, 42.3, 1040, 111.14]\n",
        "data_exp_whole = pd.read_csv('dataset_merged.csv')\n"
      ],
      "metadata": {
        "id": "9rkD_f-eC0iu"
      },
      "execution_count": null,
      "outputs": []
    },
    {
      "cell_type": "code",
      "source": [
        "# creating the experimental values for the X matrix for solvents that are in the dataset_mereged (Caleman)\n",
        "X_exp_49_temp = []\n",
        "for num in Solvents_num:\n",
        "  vap_heat = data_exp_whole.loc[num-1, 'vap_exp']\n",
        "  epsilon = data_exp_whole.loc[num-1, 'eps_exp']\n",
        "  st = data_exp_whole.loc[num-1, 'st_exp']\n",
        "  Density = data_exp_whole.loc[num-1, 'den_exp']\n",
        "  MW = data_exp_whole.loc[num-1, 'MW']\n",
        "  temp = [vap_heat, epsilon, st, Density, MW]\n",
        "  X_exp_49_temp.append(temp)\n",
        "\n",
        "X_exp_49_temp.append(CB); X_exp_49_temp.append(CHP); X_exp_49_temp.append(DCB); X_exp_49_temp.append(IPA); X_exp_49_temp.append(NMP); X_exp_49_temp.append(NVP)\n",
        "\n",
        "X_exp_49 = pd.DataFrame(X_exp_49_temp)\n",
        "X_exp_49.columns = X.columns"
      ],
      "metadata": {
        "id": "-1ubBYi2EwYI"
      },
      "execution_count": null,
      "outputs": []
    },
    {
      "cell_type": "markdown",
      "source": [
        "### Using experimental values for all 146 solvents\n"
      ],
      "metadata": {
        "id": "ZBT1GzaDeqRQ"
      }
    },
    {
      "cell_type": "code",
      "source": [
        "data_exp_whole = pd.read_csv('dataset_merged.csv')"
      ],
      "metadata": {
        "id": "yH4Lb98Ie2ro"
      },
      "execution_count": null,
      "outputs": []
    },
    {
      "cell_type": "code",
      "source": [
        "# creating the experimental values for the X matrix for solvents that are in the dataset_mereged (Caleman et al.)\n",
        "X_exp_temp = []\n",
        "for num in range(146):\n",
        "  vap_heat = data_exp_whole.loc[num, 'vap_exp']\n",
        "  epsilon = data_exp_whole.loc[num, 'eps_exp']\n",
        "  st = data_exp_whole.loc[num, 'st_exp']\n",
        "  Density = data_exp_whole.loc[num, 'den_exp']\n",
        "  MW = data_exp_whole.loc[num, 'MW']\n",
        "  temp = [vap_heat, epsilon, st, Density, MW]\n",
        "  X_exp_temp.append(temp)\n",
        "\n",
        "X_exp_temp.append(CB); X_exp_temp.append(CHP); X_exp_temp.append(DCB); X_exp_temp.append(IPA); X_exp_temp.append(NMP); X_exp_temp.append(NVP) #solvents 147 to 152\n",
        "\n",
        "X_exp = pd.DataFrame(X_exp_temp)\n",
        "X_exp.columns = X.columns"
      ],
      "metadata": {
        "id": "CXD5iojqe4Z2"
      },
      "execution_count": null,
      "outputs": []
    },
    {
      "cell_type": "code",
      "source": [
        "data_save = pd.DataFrame(X_exp)\n",
        "data_save.to_csv(\"whole.csv\", index=False, header=False)"
      ],
      "metadata": {
        "id": "gVBrTDl4M8Ji"
      },
      "execution_count": null,
      "outputs": []
    },
    {
      "cell_type": "markdown",
      "source": [
        "## Subset selection"
      ],
      "metadata": {
        "id": "rOXfDsjZ4_tz"
      }
    },
    {
      "cell_type": "code",
      "source": [
        "import itertools\n",
        "import time\n",
        "import statsmodels.api as sm\n",
        "from sklearn.ensemble import RandomForestRegressor\n",
        "\n",
        "\n",
        "%matplotlib inline\n",
        "plt.style.use('ggplot')"
      ],
      "metadata": {
        "id": "QVly2T3W75GV"
      },
      "execution_count": null,
      "outputs": []
    },
    {
      "cell_type": "code",
      "source": [
        "def fit_ml_model(algo, X_train, y_train, cv):\n",
        "    \n",
        "    # One Pass\n",
        "    model = algo.fit(X_train, y_train)\n",
        "    acc = round(model.score(X_test, y_test), 2)\n",
        "    \n",
        "    # Cross Validation \n",
        "    y_pred = model_selection.cross_val_predict(algo, \n",
        "                                                  X, \n",
        "                                                  y, \n",
        "                                                  cv=cv, \n",
        "                                                  n_jobs = -1)\n",
        "    # Cross-validation accuracy metric\n",
        "    acc_cv = round(metrics.r2_score(y, y_pred), 2)\n",
        "    RSS = mean_squared_error(y, y_pred) * len(y)\n",
        "    return y_pred, acc, acc_cv, RSS"
      ],
      "metadata": {
        "id": "jUWhP65q8PEx"
      },
      "execution_count": null,
      "outputs": []
    },
    {
      "cell_type": "code",
      "source": [
        "#Importing tqdm for the progress bar\n",
        "from tqdm import tnrange, tqdm_notebook\n",
        "\n",
        "#Initialization variables\n",
        "#k = 4\n",
        "RSS_list, R_squared_list, feature_list = [], [], []\n",
        "numb_features = []\n",
        "\n",
        "#Looping over k = 1 to k = 11 features in X\n",
        "for k in tnrange(1,len(X_train.columns) + 1, desc = 'Loop...'):\n",
        "\n",
        "    #Looping over all possible combinations: from 11 choose k\n",
        "    for combo in itertools.combinations(X_train.columns,k):\n",
        "        tmp_result = fit_ml_model(RandomForestRegressor(), X_train, y_train, 10)   #Store temp result \n",
        "        RSS_list.append(tmp_result[3])                  #Append lists\n",
        "        R_squared_list.append(tmp_result[2])\n",
        "        feature_list.append(combo)\n",
        "        numb_features.append(len(combo))   \n",
        "\n",
        "#Store in DataFrame\n",
        "df = pd.DataFrame({'numb_features': numb_features,'RSS': RSS_list, 'R_squared':R_squared_list,'features':feature_list})"
      ],
      "metadata": {
        "colab": {
          "base_uri": "https://localhost:8080/",
          "height": 84,
          "referenced_widgets": [
            "76077e7a7b9e4d239112f9f41a7b5833",
            "3af2ae7d4560402dbde10a0102db1245",
            "2fd0e6de0b7d4accb491db11c816f951",
            "1fa17588dea1480091b904bcb3f3c633",
            "f5d26df89b26432e8066247fd016a0e8",
            "cd364229355043c5abcfd909f2141378",
            "cdef7bcbd8c64a989c7206883b1ab68c",
            "dc81290631af4041bffdc40576f18820",
            "06ec0c05cfd147c1bb1dad725e205db6",
            "7d47c6bed09646d19a05f06a2ebc7078",
            "e9d2351c64d0405895fd760300d1d419"
          ]
        },
        "id": "dTVS3VvA8C5T",
        "outputId": "e381688b-269a-442d-b20f-01c25a501216"
      },
      "execution_count": null,
      "outputs": [
        {
          "output_type": "stream",
          "name": "stderr",
          "text": [
            "/usr/local/lib/python3.7/dist-packages/ipykernel_launcher.py:10: TqdmDeprecationWarning: Please use `tqdm.notebook.trange` instead of `tqdm.tnrange`\n",
            "  # Remove the CWD from sys.path while we load stuff.\n"
          ]
        },
        {
          "output_type": "display_data",
          "data": {
            "text/plain": [
              "Loop...:   0%|          | 0/8 [00:00<?, ?it/s]"
            ],
            "application/vnd.jupyter.widget-view+json": {
              "version_major": 2,
              "version_minor": 0,
              "model_id": "76077e7a7b9e4d239112f9f41a7b5833"
            }
          },
          "metadata": {}
        }
      ]
    },
    {
      "cell_type": "code",
      "source": [
        "df_min = df[df.groupby('numb_features')['RSS'].transform(min) == df['RSS']]\n",
        "df_max = df[df.groupby('numb_features')['R_squared'].transform(max) == df['R_squared']]\n",
        "display(df_min.head(3))\n",
        "display(df_max.head(3))"
      ],
      "metadata": {
        "colab": {
          "base_uri": "https://localhost:8080/",
          "height": 270
        },
        "id": "kLffvRG2CJyD",
        "outputId": "1309c3e7-b5a3-4189-bac8-0dee3be76f24"
      },
      "execution_count": null,
      "outputs": [
        {
          "output_type": "display_data",
          "data": {
            "text/plain": [
              "    numb_features            RSS  R_squared  \\\n",
              "4               1  110685.574601       0.62   \n",
              "16              2  112168.243632       0.61   \n",
              "76              3  105781.688049       0.63   \n",
              "\n",
              "                                             features  \n",
              "4                              (Dielectric constant,)  \n",
              "16                      (Density, Heat Capacity (Cp))  \n",
              "76  (Heat of Vaporization, Dielectric constant, Su...  "
            ],
            "text/html": [
              "\n",
              "  <div id=\"df-bf25a817-16ba-44ac-ac93-64df786a9143\">\n",
              "    <div class=\"colab-df-container\">\n",
              "      <div>\n",
              "<style scoped>\n",
              "    .dataframe tbody tr th:only-of-type {\n",
              "        vertical-align: middle;\n",
              "    }\n",
              "\n",
              "    .dataframe tbody tr th {\n",
              "        vertical-align: top;\n",
              "    }\n",
              "\n",
              "    .dataframe thead th {\n",
              "        text-align: right;\n",
              "    }\n",
              "</style>\n",
              "<table border=\"1\" class=\"dataframe\">\n",
              "  <thead>\n",
              "    <tr style=\"text-align: right;\">\n",
              "      <th></th>\n",
              "      <th>numb_features</th>\n",
              "      <th>RSS</th>\n",
              "      <th>R_squared</th>\n",
              "      <th>features</th>\n",
              "    </tr>\n",
              "  </thead>\n",
              "  <tbody>\n",
              "    <tr>\n",
              "      <th>4</th>\n",
              "      <td>1</td>\n",
              "      <td>110685.574601</td>\n",
              "      <td>0.62</td>\n",
              "      <td>(Dielectric constant,)</td>\n",
              "    </tr>\n",
              "    <tr>\n",
              "      <th>16</th>\n",
              "      <td>2</td>\n",
              "      <td>112168.243632</td>\n",
              "      <td>0.61</td>\n",
              "      <td>(Density, Heat Capacity (Cp))</td>\n",
              "    </tr>\n",
              "    <tr>\n",
              "      <th>76</th>\n",
              "      <td>3</td>\n",
              "      <td>105781.688049</td>\n",
              "      <td>0.63</td>\n",
              "      <td>(Heat of Vaporization, Dielectric constant, Su...</td>\n",
              "    </tr>\n",
              "  </tbody>\n",
              "</table>\n",
              "</div>\n",
              "      <button class=\"colab-df-convert\" onclick=\"convertToInteractive('df-bf25a817-16ba-44ac-ac93-64df786a9143')\"\n",
              "              title=\"Convert this dataframe to an interactive table.\"\n",
              "              style=\"display:none;\">\n",
              "        \n",
              "  <svg xmlns=\"http://www.w3.org/2000/svg\" height=\"24px\"viewBox=\"0 0 24 24\"\n",
              "       width=\"24px\">\n",
              "    <path d=\"M0 0h24v24H0V0z\" fill=\"none\"/>\n",
              "    <path d=\"M18.56 5.44l.94 2.06.94-2.06 2.06-.94-2.06-.94-.94-2.06-.94 2.06-2.06.94zm-11 1L8.5 8.5l.94-2.06 2.06-.94-2.06-.94L8.5 2.5l-.94 2.06-2.06.94zm10 10l.94 2.06.94-2.06 2.06-.94-2.06-.94-.94-2.06-.94 2.06-2.06.94z\"/><path d=\"M17.41 7.96l-1.37-1.37c-.4-.4-.92-.59-1.43-.59-.52 0-1.04.2-1.43.59L10.3 9.45l-7.72 7.72c-.78.78-.78 2.05 0 2.83L4 21.41c.39.39.9.59 1.41.59.51 0 1.02-.2 1.41-.59l7.78-7.78 2.81-2.81c.8-.78.8-2.07 0-2.86zM5.41 20L4 18.59l7.72-7.72 1.47 1.35L5.41 20z\"/>\n",
              "  </svg>\n",
              "      </button>\n",
              "      \n",
              "  <style>\n",
              "    .colab-df-container {\n",
              "      display:flex;\n",
              "      flex-wrap:wrap;\n",
              "      gap: 12px;\n",
              "    }\n",
              "\n",
              "    .colab-df-convert {\n",
              "      background-color: #E8F0FE;\n",
              "      border: none;\n",
              "      border-radius: 50%;\n",
              "      cursor: pointer;\n",
              "      display: none;\n",
              "      fill: #1967D2;\n",
              "      height: 32px;\n",
              "      padding: 0 0 0 0;\n",
              "      width: 32px;\n",
              "    }\n",
              "\n",
              "    .colab-df-convert:hover {\n",
              "      background-color: #E2EBFA;\n",
              "      box-shadow: 0px 1px 2px rgba(60, 64, 67, 0.3), 0px 1px 3px 1px rgba(60, 64, 67, 0.15);\n",
              "      fill: #174EA6;\n",
              "    }\n",
              "\n",
              "    [theme=dark] .colab-df-convert {\n",
              "      background-color: #3B4455;\n",
              "      fill: #D2E3FC;\n",
              "    }\n",
              "\n",
              "    [theme=dark] .colab-df-convert:hover {\n",
              "      background-color: #434B5C;\n",
              "      box-shadow: 0px 1px 3px 1px rgba(0, 0, 0, 0.15);\n",
              "      filter: drop-shadow(0px 1px 2px rgba(0, 0, 0, 0.3));\n",
              "      fill: #FFFFFF;\n",
              "    }\n",
              "  </style>\n",
              "\n",
              "      <script>\n",
              "        const buttonEl =\n",
              "          document.querySelector('#df-bf25a817-16ba-44ac-ac93-64df786a9143 button.colab-df-convert');\n",
              "        buttonEl.style.display =\n",
              "          google.colab.kernel.accessAllowed ? 'block' : 'none';\n",
              "\n",
              "        async function convertToInteractive(key) {\n",
              "          const element = document.querySelector('#df-bf25a817-16ba-44ac-ac93-64df786a9143');\n",
              "          const dataTable =\n",
              "            await google.colab.kernel.invokeFunction('convertToInteractive',\n",
              "                                                     [key], {});\n",
              "          if (!dataTable) return;\n",
              "\n",
              "          const docLinkHtml = 'Like what you see? Visit the ' +\n",
              "            '<a target=\"_blank\" href=https://colab.research.google.com/notebooks/data_table.ipynb>data table notebook</a>'\n",
              "            + ' to learn more about interactive tables.';\n",
              "          element.innerHTML = '';\n",
              "          dataTable['output_type'] = 'display_data';\n",
              "          await google.colab.output.renderOutput(dataTable, element);\n",
              "          const docLink = document.createElement('div');\n",
              "          docLink.innerHTML = docLinkHtml;\n",
              "          element.appendChild(docLink);\n",
              "        }\n",
              "      </script>\n",
              "    </div>\n",
              "  </div>\n",
              "  "
            ]
          },
          "metadata": {}
        },
        {
          "output_type": "display_data",
          "data": {
            "text/plain": [
              "    numb_features            RSS  R_squared  \\\n",
              "4               1  110685.574601       0.62   \n",
              "16              2  112168.243632       0.61   \n",
              "26              2  113625.690448       0.61   \n",
              "\n",
              "                                     features  \n",
              "4                      (Dielectric constant,)  \n",
              "16              (Density, Heat Capacity (Cp))  \n",
              "26  (Heat Capacity (Cp), Dielectric constant)  "
            ],
            "text/html": [
              "\n",
              "  <div id=\"df-ee95ba0f-232e-4df6-8d3a-892fffba185a\">\n",
              "    <div class=\"colab-df-container\">\n",
              "      <div>\n",
              "<style scoped>\n",
              "    .dataframe tbody tr th:only-of-type {\n",
              "        vertical-align: middle;\n",
              "    }\n",
              "\n",
              "    .dataframe tbody tr th {\n",
              "        vertical-align: top;\n",
              "    }\n",
              "\n",
              "    .dataframe thead th {\n",
              "        text-align: right;\n",
              "    }\n",
              "</style>\n",
              "<table border=\"1\" class=\"dataframe\">\n",
              "  <thead>\n",
              "    <tr style=\"text-align: right;\">\n",
              "      <th></th>\n",
              "      <th>numb_features</th>\n",
              "      <th>RSS</th>\n",
              "      <th>R_squared</th>\n",
              "      <th>features</th>\n",
              "    </tr>\n",
              "  </thead>\n",
              "  <tbody>\n",
              "    <tr>\n",
              "      <th>4</th>\n",
              "      <td>1</td>\n",
              "      <td>110685.574601</td>\n",
              "      <td>0.62</td>\n",
              "      <td>(Dielectric constant,)</td>\n",
              "    </tr>\n",
              "    <tr>\n",
              "      <th>16</th>\n",
              "      <td>2</td>\n",
              "      <td>112168.243632</td>\n",
              "      <td>0.61</td>\n",
              "      <td>(Density, Heat Capacity (Cp))</td>\n",
              "    </tr>\n",
              "    <tr>\n",
              "      <th>26</th>\n",
              "      <td>2</td>\n",
              "      <td>113625.690448</td>\n",
              "      <td>0.61</td>\n",
              "      <td>(Heat Capacity (Cp), Dielectric constant)</td>\n",
              "    </tr>\n",
              "  </tbody>\n",
              "</table>\n",
              "</div>\n",
              "      <button class=\"colab-df-convert\" onclick=\"convertToInteractive('df-ee95ba0f-232e-4df6-8d3a-892fffba185a')\"\n",
              "              title=\"Convert this dataframe to an interactive table.\"\n",
              "              style=\"display:none;\">\n",
              "        \n",
              "  <svg xmlns=\"http://www.w3.org/2000/svg\" height=\"24px\"viewBox=\"0 0 24 24\"\n",
              "       width=\"24px\">\n",
              "    <path d=\"M0 0h24v24H0V0z\" fill=\"none\"/>\n",
              "    <path d=\"M18.56 5.44l.94 2.06.94-2.06 2.06-.94-2.06-.94-.94-2.06-.94 2.06-2.06.94zm-11 1L8.5 8.5l.94-2.06 2.06-.94-2.06-.94L8.5 2.5l-.94 2.06-2.06.94zm10 10l.94 2.06.94-2.06 2.06-.94-2.06-.94-.94-2.06-.94 2.06-2.06.94z\"/><path d=\"M17.41 7.96l-1.37-1.37c-.4-.4-.92-.59-1.43-.59-.52 0-1.04.2-1.43.59L10.3 9.45l-7.72 7.72c-.78.78-.78 2.05 0 2.83L4 21.41c.39.39.9.59 1.41.59.51 0 1.02-.2 1.41-.59l7.78-7.78 2.81-2.81c.8-.78.8-2.07 0-2.86zM5.41 20L4 18.59l7.72-7.72 1.47 1.35L5.41 20z\"/>\n",
              "  </svg>\n",
              "      </button>\n",
              "      \n",
              "  <style>\n",
              "    .colab-df-container {\n",
              "      display:flex;\n",
              "      flex-wrap:wrap;\n",
              "      gap: 12px;\n",
              "    }\n",
              "\n",
              "    .colab-df-convert {\n",
              "      background-color: #E8F0FE;\n",
              "      border: none;\n",
              "      border-radius: 50%;\n",
              "      cursor: pointer;\n",
              "      display: none;\n",
              "      fill: #1967D2;\n",
              "      height: 32px;\n",
              "      padding: 0 0 0 0;\n",
              "      width: 32px;\n",
              "    }\n",
              "\n",
              "    .colab-df-convert:hover {\n",
              "      background-color: #E2EBFA;\n",
              "      box-shadow: 0px 1px 2px rgba(60, 64, 67, 0.3), 0px 1px 3px 1px rgba(60, 64, 67, 0.15);\n",
              "      fill: #174EA6;\n",
              "    }\n",
              "\n",
              "    [theme=dark] .colab-df-convert {\n",
              "      background-color: #3B4455;\n",
              "      fill: #D2E3FC;\n",
              "    }\n",
              "\n",
              "    [theme=dark] .colab-df-convert:hover {\n",
              "      background-color: #434B5C;\n",
              "      box-shadow: 0px 1px 3px 1px rgba(0, 0, 0, 0.15);\n",
              "      filter: drop-shadow(0px 1px 2px rgba(0, 0, 0, 0.3));\n",
              "      fill: #FFFFFF;\n",
              "    }\n",
              "  </style>\n",
              "\n",
              "      <script>\n",
              "        const buttonEl =\n",
              "          document.querySelector('#df-ee95ba0f-232e-4df6-8d3a-892fffba185a button.colab-df-convert');\n",
              "        buttonEl.style.display =\n",
              "          google.colab.kernel.accessAllowed ? 'block' : 'none';\n",
              "\n",
              "        async function convertToInteractive(key) {\n",
              "          const element = document.querySelector('#df-ee95ba0f-232e-4df6-8d3a-892fffba185a');\n",
              "          const dataTable =\n",
              "            await google.colab.kernel.invokeFunction('convertToInteractive',\n",
              "                                                     [key], {});\n",
              "          if (!dataTable) return;\n",
              "\n",
              "          const docLinkHtml = 'Like what you see? Visit the ' +\n",
              "            '<a target=\"_blank\" href=https://colab.research.google.com/notebooks/data_table.ipynb>data table notebook</a>'\n",
              "            + ' to learn more about interactive tables.';\n",
              "          element.innerHTML = '';\n",
              "          dataTable['output_type'] = 'display_data';\n",
              "          await google.colab.output.renderOutput(dataTable, element);\n",
              "          const docLink = document.createElement('div');\n",
              "          docLink.innerHTML = docLinkHtml;\n",
              "          element.appendChild(docLink);\n",
              "        }\n",
              "      </script>\n",
              "    </div>\n",
              "  </div>\n",
              "  "
            ]
          },
          "metadata": {}
        }
      ]
    },
    {
      "cell_type": "code",
      "source": [
        "import time\n",
        "import statsmodels.api as sm"
      ],
      "metadata": {
        "id": "CfZ2N4Lsjh8V"
      },
      "execution_count": null,
      "outputs": []
    },
    {
      "cell_type": "markdown",
      "metadata": {
        "id": "nV8oDqMS4ABI"
      },
      "source": [
        "##Learning curve"
      ]
    },
    {
      "cell_type": "code",
      "source": [
        "from sklearn.model_selection import train_test_split\n",
        "from sklearn.preprocessing import StandardScaler\n",
        "from sklearn.pipeline import make_pipeline\n",
        "from sklearn.ensemble import ExtraTreesRegressor\n",
        "from sklearn.model_selection import learning_curve\n",
        "from sklearn import datasets\n",
        "import matplotlib.pyplot as plt\n",
        "\n",
        "\n",
        "# Create a pipeline; This will be passed as an estimator to learning curve method\n",
        "#\n",
        "pipeline = make_pipeline(StandardScaler(),\n",
        "                        ExtraTreesRegressor())\n",
        "#\n",
        "# Use learning curve to get training and test scores along with train sizes\n",
        "#\n",
        "train_sizes, train_scores, test_scores = learning_curve(estimator=pipeline, X=X, y=y, cv=10, train_sizes=np.linspace(0.01, 1.0, 50), n_jobs=1)\n",
        "#\n",
        "# Calculate training and test mean and std\n",
        "#\n",
        "train_mean = np.mean(train_scores, axis=1)\n",
        "train_std = np.std(train_scores, axis=1)\n",
        "test_mean = np.mean(test_scores, axis=1)\n",
        "test_std = np.std(test_scores, axis=1)\n",
        "#\n",
        "# Plot the learning curve\n",
        "#\n",
        "plt.plot(train_sizes, train_mean, color='blue', marker='o', markersize=5, label='Training Accuracy')\n",
        "plt.fill_between(train_sizes, train_mean + train_std, train_mean - train_std, alpha=0.15, color='blue')\n",
        "plt.plot(train_sizes, test_mean, color='green', marker='+', markersize=5, linestyle='--', label='Validation Accuracy')\n",
        "plt.fill_between(train_sizes, test_mean + test_std, test_mean - test_std, alpha=0.15, color='green')\n",
        "plt.title('Learning Curve')\n",
        "plt.xlabel('Training Data Size')\n",
        "plt.ylabel(r'$R^2 score$')\n",
        "plt.grid()\n",
        "plt.legend(loc='lower right')\n",
        "plt.show()"
      ],
      "metadata": {
        "id": "3FDKgcc18WlT"
      },
      "execution_count": null,
      "outputs": []
    },
    {
      "cell_type": "code",
      "source": [
        "from matplotlib.pyplot import figure\n",
        "import matplotlib\n",
        "matplotlib.rcParams.update({'font.size': 22})\n",
        "figure(figsize=(10, 10), dpi=80)\n",
        "plt.plot(train_sizes, train_mean, color='blue', marker='o', markersize=10, label='Training Accuracy')\n",
        "plt.fill_between(train_sizes, train_mean + train_std, train_mean - train_std, alpha=0.15, color='blue')\n",
        "plt.plot(train_sizes, test_mean, color='green', marker='+', markersize=10, linestyle='--', label='Validation Accuracy')\n",
        "plt.fill_between(train_sizes, test_mean + test_std, test_mean - test_std, alpha=0.15, color='green')\n",
        "plt.xlabel('Train data size')\n",
        "plt.ylabel(r'$R^2 score$')\n",
        "plt.grid()\n",
        "plt.legend(loc='lower right')\n",
        "plt.show()"
      ],
      "metadata": {
        "colab": {
          "base_uri": "https://localhost:8080/",
          "height": 697
        },
        "id": "TAa8lGKJBznc",
        "outputId": "6de01754-344d-4c19-f350-a7b9b5285fe0"
      },
      "execution_count": null,
      "outputs": [
        {
          "output_type": "display_data",
          "data": {
            "text/plain": [
              "<Figure size 800x800 with 1 Axes>"
            ],
            "image/png": "[encoded data removed]"
          },
          "metadata": {
            "needs_background": "light"
          }
        }
      ]
    }
  ]
}